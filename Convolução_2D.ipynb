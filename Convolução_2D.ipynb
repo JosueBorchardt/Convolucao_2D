{
  "cells": [
    {
      "cell_type": "markdown",
      "metadata": {
        "id": "view-in-github",
        "colab_type": "text"
      },
      "source": [
        "<a href=\"https://colab.research.google.com/github/JosueBorchardt/Convolucao_2D/blob/main/Convolu%C3%A7%C3%A3o_2D.ipynb\" target=\"_parent\"><img src=\"https://colab.research.google.com/assets/colab-badge.svg\" alt=\"Open In Colab\"/></a>"
      ]
    },
    {
      "cell_type": "markdown",
      "metadata": {
        "id": "HkW2SEimj8P1"
      },
      "source": [
        "# Convolução 2D em Tempo Discreto"
      ]
    },
    {
      "cell_type": "markdown",
      "metadata": {
        "id": "7M213_gX2fKR"
      },
      "source": [
        "## Bibliotecas"
      ]
    },
    {
      "cell_type": "code",
      "execution_count": 20,
      "metadata": {
        "id": "l78DkY5O212r"
      },
      "outputs": [],
      "source": [
        "import numpy as np\n",
        "import plotly.graph_objects as go\n",
        "from PIL import Image\n",
        "import requests\n",
        "from io import BytesIO"
      ]
    },
    {
      "cell_type": "markdown",
      "metadata": {
        "id": "uoh3FqEKhaf-"
      },
      "source": [
        "## Funções para carregar e exibir a imagem"
      ]
    },
    {
      "cell_type": "code",
      "execution_count": 21,
      "metadata": {
        "id": "RbKEgYGvYN4m"
      },
      "outputs": [],
      "source": [
        "def load_image_from_url(url):\n",
        "  response = requests.get(url)\n",
        "\n",
        "  #Converte para escala de cinza\n",
        "  image = Image.open(BytesIO(response.content)).convert('L')\n",
        "\n",
        "  #Converte para array NumPy\n",
        "  image_array = np.array(image)\n",
        "\n",
        "  # Normaliza os valores para o intervalo [0, 255]\n",
        "  image_array = ((image_array - image_array.min()) / (image_array.max() - image_array.min())) * 255\n",
        "\n",
        "  return image_array"
      ]
    },
    {
      "cell_type": "code",
      "execution_count": 22,
      "metadata": {
        "id": "8PSCaweYgUtX"
      },
      "outputs": [],
      "source": [
        "def plot_image(image_array, title):\n",
        "  image_array = np.flipud(image_array)\n",
        "  fig = go.Figure()\n",
        "  fig.add_trace(go.Heatmap(z = image_array, colorscale = 'gray'))\n",
        "  fig.update_layout(\n",
        "      title=title,\n",
        "      xaxis=dict(showgrid=False, zeroline=False, showticklabels=False),\n",
        "      yaxis=dict(showgrid=False, zeroline=False, showticklabels=False)\n",
        "  )\n",
        "  fig.show()"
      ]
    },
    {
      "cell_type": "markdown",
      "metadata": {
        "id": "Vz9ucfZIkG38"
      },
      "source": [
        "## Convolução 2D"
      ]
    },
    {
      "cell_type": "code",
      "execution_count": 23,
      "metadata": {
        "id": "As-lpDlXiRjA"
      },
      "outputs": [],
      "source": [
        "def convolution_2d(image, kernel):\n",
        "  # Obter dimensões da imagem e do kernel\n",
        "  img_height, img_width = image.shape\n",
        "  kernel_height, kernel_width = kernel.shape\n",
        "\n",
        "  # Calcular os deslocamentos para o kernel\n",
        "  pad_height = kernel_height // 2\n",
        "  pad_width = kernel_width // 2\n",
        "\n",
        "  # Inicializar a imagem de saída\n",
        "  output_image = np.zeros_like(image)\n",
        "\n",
        "  # Aplicar convolução\n",
        "  for i in range(pad_height, img_height - pad_height):\n",
        "      for j in range(pad_width, img_width - pad_width):\n",
        "          region = image[i - pad_height:i + pad_height + 1, j - pad_width:j + pad_width + 1]\n",
        "          output_image[i, j] = np.sum(region * kernel)\n",
        "\n",
        "  return output_image"
      ]
    },
    {
      "cell_type": "markdown",
      "source": [
        "## Kernel"
      ],
      "metadata": {
        "id": "Xwn_ELjDC2Ab"
      }
    },
    {
      "cell_type": "code",
      "execution_count": 24,
      "metadata": {
        "id": "ZHxhIRjxj3c6"
      },
      "outputs": [],
      "source": [
        "#Kernel de suavização\n",
        "K_smoothing = np.array([[1, 1, 1],\n",
        "                        [1, 1, 1],\n",
        "                        [1, 1, 1]])/9.0\n",
        "\n",
        "#Kernel de bordas\n",
        "K_edges = np.array([[-1, -1, -1],\n",
        "                    [-1,  8, -1],\n",
        "                    [-1, -1, -1]])"
      ]
    },
    {
      "cell_type": "markdown",
      "source": [
        "## Filtragem"
      ],
      "metadata": {
        "id": "lAJKBPm1DDuq"
      }
    },
    {
      "cell_type": "code",
      "execution_count": null,
      "metadata": {
        "id": "5Q5b3hWgY0MX"
      },
      "outputs": [],
      "source": [
        "#A imagem utilizada no projeto foi retirada do Unsplash\n",
        "image = load_image_from_url('https://images.unsplash.com/photo-1727163941293-0c3dc5074bf4?q=80&w=1632&auto=format&fit=crop&ixlib=rb-4.0.3&ixid=M3wxMjA3fDB8MHxwaG90by1wYWdlfHx8fGVufDB8fHx8fA%3D%3D')\n",
        "smoothed_image = convolution_2d(image, K_smoothing)\n",
        "edges_image = convolution_2d(smoothed_image, K_edges)\n",
        "edges_image = np.clip(edges_image, 0, 255)\n",
        "\n",
        "plot_image(image, \"Imagem original\")\n",
        "plot_image(smoothed_image, \"Imagem suavizada\")\n",
        "plot_image(edges_image, \"Imagem com detecção de bordas\")"
      ]
    }
  ],
  "metadata": {
    "colab": {
      "provenance": [],
      "include_colab_link": true
    },
    "kernelspec": {
      "display_name": "Python 3",
      "name": "python3"
    },
    "language_info": {
      "name": "python"
    }
  },
  "nbformat": 4,
  "nbformat_minor": 0
}